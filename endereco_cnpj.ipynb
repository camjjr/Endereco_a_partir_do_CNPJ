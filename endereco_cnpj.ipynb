{
  "nbformat": 4,
  "nbformat_minor": 0,
  "metadata": {
    "colab": {
      "provenance": [],
      "authorship_tag": "ABX9TyM5YeAEEZ0BqqGON7uzJMNx"
    },
    "kernelspec": {
      "name": "python3",
      "display_name": "Python 3"
    },
    "language_info": {
      "name": "python"
    }
  },
  "cells": [
    {
      "cell_type": "code",
      "source": [
        "from bs4 import BeautifulSoup\n",
        "import requests\n"
      ],
      "metadata": {
        "id": "REzOco_6kjYt"
      },
      "execution_count": 1,
      "outputs": []
    },
    {
      "cell_type": "code",
      "source": [
        "import pandas as pd\n"
      ],
      "metadata": {
        "id": "sgVsHMRks8P9"
      },
      "execution_count": 2,
      "outputs": []
    },
    {
      "cell_type": "code",
      "source": [
        "url_parte_1 = \"https://www.informecadastral.com.br/cnpj/\"\n",
        "cnpj = str(15436940000103)\n",
        "url = (url_parte_1 + cnpj)\n",
        "html = requests.get(url).text\n",
        "soap = BeautifulSoup(html,\"html5lib\")\n",
        "soap = str(soap)\n",
        "data = soap.split()\n",
        "data = data[2].split(\"=\")\n",
        "url = data[1]\n",
        "url = url[:-1]\n",
        "html = requests.get(url).text\n",
        "soap = BeautifulSoup(html,\"html5lib\")\n",
        "data = soap.find_all(\"p\")\n",
        "rua_numero_comple_bairro = str(data[41])\n",
        "cidade_estado = str(data[42]) \n",
        "cep = str(data[43])\n",
        "rua_numero_comple_bairro = rua_numero_comple_bairro[16:-4].split(\",\")\n",
        "rua = rua_numero_comple_bairro[0]\n",
        "comple_bairro_num = rua_numero_comple_bairro[1].split(\"-\")\n",
        "bairro = comple_bairro_num[1]\n",
        "comple_num = comple_bairro_num[0].split(\"<br/>\")\n",
        "num = comple_num[0]\n",
        "comple = comple_num[1]\n",
        "cidade_estado = cidade_estado[16:-4].split(\" | \")\n",
        "cidade = cidade_estado[0]\n",
        "estado = cidade_estado[1]\n",
        "cep = cep[16:-4]"
      ],
      "metadata": {
        "id": "SVZfsD45sYJN"
      },
      "execution_count": 5,
      "outputs": []
    },
    {
      "cell_type": "code",
      "source": [
        "print([cnpj,rua,num,comple,bairro,cep,cidade,estado])\n"
      ],
      "metadata": {
        "colab": {
          "base_uri": "https://localhost:8080/"
        },
        "id": "3NhMnHjWtFw4",
        "outputId": "c8cfd7be-9454-4f65-dc7c-bb807c3a2ac1"
      },
      "execution_count": 6,
      "outputs": [
        {
          "output_type": "stream",
          "name": "stdout",
          "text": [
            "['15436940000103', 'AVENIDA PRESIDENTE JUSCELINO KUBITSCHEK', ' 2041', 'ANDAR 18 20 21 22 E 23 LADO A TORRE E ', ' VILA NOVA CONCEICAO', '04543-011', 'SAO PAULO', 'SP']\n"
          ]
        }
      ]
    }
  ]
}