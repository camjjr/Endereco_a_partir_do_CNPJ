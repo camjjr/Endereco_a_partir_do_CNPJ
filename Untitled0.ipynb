{
  "nbformat": 4,
  "nbformat_minor": 0,
  "metadata": {
    "colab": {
      "provenance": []
    },
    "kernelspec": {
      "name": "python3",
      "display_name": "Python 3"
    },
    "language_info": {
      "name": "python"
    }
  },
  "cells": [
    {
      "cell_type": "code",
      "source": [
        "from bs4 import BeautifulSoup\n",
        "import requests\n"
      ],
      "metadata": {
        "id": "REzOco_6kjYt"
      },
      "execution_count": null,
      "outputs": []
    },
    {
      "cell_type": "code",
      "source": [
        "import pandas as pd\n"
      ],
      "metadata": {
        "id": "sgVsHMRks8P9"
      },
      "execution_count": null,
      "outputs": []
    },
    {
      "cell_type": "code",
      "source": [
        "url_parte_1 = \"https://www.informecadastral.com.br/cnpj/\"\n",
        "cnpj = str(79674297000392)\n",
        "url = (url_parte_1 + cnpj)\n",
        "html = requests.get(url).text\n",
        "soap = BeautifulSoup(html,\"html5lib\")\n",
        "soap = str(soap)\n",
        "data = soap.split()\n",
        "data = data[2].split(\"=\")\n",
        "url = data[1]\n",
        "url = url[:-1]\n",
        "html = requests.get(url).text\n",
        "soap = BeautifulSoup(html,\"html5lib\")\n",
        "data = soap.find_all(\"p\")\n",
        "rua_numero_comple_bairro = str(data[41])\n",
        "cidade_estado = str(data[42]) \n",
        "cep = str(data[43])\n",
        "rua_numero_comple_bairro = rua_numero_comple_bairro[16:-4].split(\",\")\n",
        "rua = rua_numero_comple_bairro[0]\n",
        "comple_bairro_num = rua_numero_comple_bairro[1].split(\"-\")\n",
        "bairro = comple_bairro_num[1]\n",
        "comple_num = comple_bairro_num[0].split(\"<br/>\")\n",
        "num = comple_num[0]\n",
        "comple = comple_num[1]\n",
        "cidade_estado = cidade_estado[16:-4].split(\" | \")\n",
        "cidade = cidade_estado[0]\n",
        "estado = cidade_estado[1]\n",
        "cep = cep[16:-4]"
      ],
      "metadata": {
        "id": "SVZfsD45sYJN"
      },
      "execution_count": null,
      "outputs": []
    },
    {
      "cell_type": "code",
      "source": [
        "import pandas as pd\n",
        "dado = pd.DataFrame([cnpj,rua,num,comple,bairro,cep,cidade,estado])\n",
        "dado.tranpose()"
      ],
      "metadata": {
        "colab": {
          "base_uri": "https://localhost:8080/",
          "height": 321
        },
        "id": "3NhMnHjWtFw4",
        "outputId": "7e754a70-c65b-4b16-9d57-3bf535eb693d"
      },
      "execution_count": null,
      "outputs": [
        {
          "output_type": "error",
          "ename": "AttributeError",
          "evalue": "ignored",
          "traceback": [
            "\u001b[0;31m---------------------------------------------------------------------------\u001b[0m",
            "\u001b[0;31mAttributeError\u001b[0m                            Traceback (most recent call last)",
            "\u001b[0;32m<ipython-input-103-2ff7b4e02ad6>\u001b[0m in \u001b[0;36m<module>\u001b[0;34m\u001b[0m\n\u001b[1;32m      1\u001b[0m \u001b[0;32mimport\u001b[0m \u001b[0mpandas\u001b[0m \u001b[0;32mas\u001b[0m \u001b[0mpd\u001b[0m\u001b[0;34m\u001b[0m\u001b[0;34m\u001b[0m\u001b[0m\n\u001b[1;32m      2\u001b[0m \u001b[0mdado\u001b[0m \u001b[0;34m=\u001b[0m \u001b[0mpd\u001b[0m\u001b[0;34m.\u001b[0m\u001b[0mDataFrame\u001b[0m\u001b[0;34m(\u001b[0m\u001b[0;34m[\u001b[0m\u001b[0mcnpj\u001b[0m\u001b[0;34m,\u001b[0m\u001b[0mrua\u001b[0m\u001b[0;34m,\u001b[0m\u001b[0mnum\u001b[0m\u001b[0;34m,\u001b[0m\u001b[0mcomple\u001b[0m\u001b[0;34m,\u001b[0m\u001b[0mbairro\u001b[0m\u001b[0;34m,\u001b[0m\u001b[0mcep\u001b[0m\u001b[0;34m,\u001b[0m\u001b[0mcidade\u001b[0m\u001b[0;34m,\u001b[0m\u001b[0mestado\u001b[0m\u001b[0;34m]\u001b[0m\u001b[0;34m)\u001b[0m\u001b[0;34m\u001b[0m\u001b[0;34m\u001b[0m\u001b[0m\n\u001b[0;32m----> 3\u001b[0;31m \u001b[0mdado\u001b[0m\u001b[0;34m.\u001b[0m\u001b[0mtranpose\u001b[0m\u001b[0;34m(\u001b[0m\u001b[0;34m)\u001b[0m\u001b[0;34m\u001b[0m\u001b[0;34m\u001b[0m\u001b[0m\n\u001b[0m",
            "\u001b[0;32m/usr/local/lib/python3.9/dist-packages/pandas/core/generic.py\u001b[0m in \u001b[0;36m__getattr__\u001b[0;34m(self, name)\u001b[0m\n\u001b[1;32m   5573\u001b[0m         ):\n\u001b[1;32m   5574\u001b[0m             \u001b[0;32mreturn\u001b[0m \u001b[0mself\u001b[0m\u001b[0;34m[\u001b[0m\u001b[0mname\u001b[0m\u001b[0;34m]\u001b[0m\u001b[0;34m\u001b[0m\u001b[0;34m\u001b[0m\u001b[0m\n\u001b[0;32m-> 5575\u001b[0;31m         \u001b[0;32mreturn\u001b[0m \u001b[0mobject\u001b[0m\u001b[0;34m.\u001b[0m\u001b[0m__getattribute__\u001b[0m\u001b[0;34m(\u001b[0m\u001b[0mself\u001b[0m\u001b[0;34m,\u001b[0m \u001b[0mname\u001b[0m\u001b[0;34m)\u001b[0m\u001b[0;34m\u001b[0m\u001b[0;34m\u001b[0m\u001b[0m\n\u001b[0m\u001b[1;32m   5576\u001b[0m \u001b[0;34m\u001b[0m\u001b[0m\n\u001b[1;32m   5577\u001b[0m     \u001b[0;32mdef\u001b[0m \u001b[0m__setattr__\u001b[0m\u001b[0;34m(\u001b[0m\u001b[0mself\u001b[0m\u001b[0;34m,\u001b[0m \u001b[0mname\u001b[0m\u001b[0;34m:\u001b[0m \u001b[0mstr\u001b[0m\u001b[0;34m,\u001b[0m \u001b[0mvalue\u001b[0m\u001b[0;34m)\u001b[0m \u001b[0;34m->\u001b[0m \u001b[0;32mNone\u001b[0m\u001b[0;34m:\u001b[0m\u001b[0;34m\u001b[0m\u001b[0;34m\u001b[0m\u001b[0m\n",
            "\u001b[0;31mAttributeError\u001b[0m: 'DataFrame' object has no attribute 'tranpose'"
          ]
        }
      ]
    }
  ]
}